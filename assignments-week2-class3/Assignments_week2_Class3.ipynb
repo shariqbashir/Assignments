{
  "nbformat": 4,
  "nbformat_minor": 0,
  "metadata": {
    "colab": {
      "provenance": []
    },
    "kernelspec": {
      "name": "python3",
      "display_name": "Python 3"
    },
    "language_info": {
      "name": "python"
    }
  },
  "cells": [
    {
      "cell_type": "markdown",
      "source": [
        "**Python String Concatenation and Formatting Assignments**\n",
        "\n",
        "**Assignment 1: String Concatenation and Formatting**\n",
        "\n",
        "1. Create a variable `name` and assign your name to it.\n",
        "2. Create a variable `age` and assign your age to it.\n",
        "3. Create a variable `country` and assign your country of residence to it.\n",
        "4. Using the `+` operator, concatenate the variables to form a sentence in the following format: \"My name is `<name>`, I am `<age>` years old, and I live in `<country>`.\"\n",
        "5. Print the concatenated sentence."
      ],
      "metadata": {
        "id": "ZFibcbPZha_q"
      }
    },
    {
      "cell_type": "code",
      "source": [
        "name = \"Shariq Bashir Siddiqui\"\n",
        "age = 42\n",
        "country = \"Pakistan\"\n",
        "\n",
        "output = \"My name is \"+ name + \" I am \" + str(age) + \" years old, I live in \" + country\n",
        "\n",
        "print(output)"
      ],
      "metadata": {
        "colab": {
          "base_uri": "https://localhost:8080/"
        },
        "id": "pGImvt8shkG-",
        "outputId": "25feb49e-b9c1-4e91-bdf4-efac04bd278a"
      },
      "execution_count": 52,
      "outputs": [
        {
          "output_type": "stream",
          "name": "stdout",
          "text": [
            "My name is Shariq Bashir Siddiqui I am 42 years old, I live in Pakistan\n"
          ]
        }
      ]
    },
    {
      "cell_type": "markdown",
      "source": [
        "**Assignment 2: String Formatting using `.format()`**\n",
        "\n",
        "**Instructions:**\n",
        "\n",
        "1. Create a variable `item` and assign a product name to it (e.g., \"laptop\", \"book\", \"phone\").\n",
        "2. Create a variable `price` and assign a price to the item.\n",
        "3. Create a variable `quantity` and assign a quantity value.\n",
        "4. Calculate the total cost using the formula: `total_cost = price * quantity`.\n",
        "5. Using the `.format()` method, create a formatted string: \"I bought `<quantity>` `<item>`(s) at `<price>` each, for a total of $`<total_cost>`.\"\n",
        "6. Print the formatted string."
      ],
      "metadata": {
        "id": "7PBulBGwmZlj"
      }
    },
    {
      "cell_type": "code",
      "source": [
        "item = \"Laptop\"\n",
        "price = 1000\n",
        "quantity = 200\n",
        "\n",
        "total_cost = price * quantity\n",
        "\n",
        "output = \"\"\"\n",
        "I bought {0} {1}(s) at ${2} each, for a total of ${3}\n",
        "\"\"\".format(quantity,item,price,total_cost)\n",
        "\n",
        "print(output)\n"
      ],
      "metadata": {
        "colab": {
          "base_uri": "https://localhost:8080/"
        },
        "id": "Uq-Lmaemh2Gg",
        "outputId": "c326a525-8443-4b3a-bb5f-67cd0d14b3df"
      },
      "execution_count": 71,
      "outputs": [
        {
          "output_type": "stream",
          "name": "stdout",
          "text": [
            "\n",
            "I bought 200 Laptop(s) at $1000 each, for a total of $200000\n",
            "\n"
          ]
        }
      ]
    },
    {
      "cell_type": "markdown",
      "source": [
        "**Assignment 3: String Interpolation using `f''`**\n",
        "\n",
        "**Instructions:**\n",
        "\n",
        "1. Create a variable `city` and assign the name of a city.\n",
        "2. Create a variable `temperature` and assign a temperature value in Celsius.\n",
        "3. Using `f''` string interpolation, create a string: \"The temperature in `<city>` is `<temperature>`°C.\"\n",
        "4. Print the interpolated string."
      ],
      "metadata": {
        "id": "Hpwb2Sy7oaI4"
      }
    },
    {
      "cell_type": "code",
      "source": [
        "city = \"Karachi\"\n",
        "temperature = 30\n",
        "\n",
        "output = f\"\"\"\n",
        "The temperature in {city} is {temperature} °C\n",
        "\"\"\"\n",
        "\n",
        "print(output)"
      ],
      "metadata": {
        "colab": {
          "base_uri": "https://localhost:8080/"
        },
        "id": "kp_iozB0oc0i",
        "outputId": "f0e2fd83-144d-4f22-e73c-eaa9d4beb29a"
      },
      "execution_count": 51,
      "outputs": [
        {
          "output_type": "stream",
          "name": "stdout",
          "text": [
            "\n",
            "The temperature in Karachi is 30 °C\n",
            "\n"
          ]
        }
      ]
    },
    {
      "cell_type": "markdown",
      "source": [
        "**Assignment 4: String Formatting using `%()`**\n",
        "\n",
        "**Instructions:**\n",
        "\n",
        "1. Create a variable `first_name` and assign your first name to it.\n",
        "2. Create a variable `last_name` and assign your last name to it.\n",
        "3. Create a variable `birth_year` and assign your birth year.\n",
        "4. Calculate your age using the formula: `age = current_year - birth_year`, where `current_year` is the current year.\n",
        "5. Using `%()` string formatting, create a string: \"My name is %(first_name)s %(last_name)s. I am %(age)d years old.\"\n",
        "6. Print the formatted string."
      ],
      "metadata": {
        "id": "GMmi-bZlqnFc"
      }
    },
    {
      "cell_type": "code",
      "source": [
        "first_name = \"Shariq\"\n",
        "last_name = \"Bashir\"\n",
        "birth_year = 1981\n",
        "current_year = 2023\n",
        "\n",
        "age = current_year - birth_year\n",
        "\n",
        "output = \"My name is %s %s. I am %d years old\" % (first_name, last_name, age)\n",
        "\n",
        "print(output)"
      ],
      "metadata": {
        "colab": {
          "base_uri": "https://localhost:8080/"
        },
        "id": "4bRQ02V-qqSX",
        "outputId": "d7d0f8b1-3d0e-4551-a7d0-04e68c67e913"
      },
      "execution_count": 57,
      "outputs": [
        {
          "output_type": "stream",
          "name": "stdout",
          "text": [
            "My name is Shariq Bashir. I am 42 years old\n"
          ]
        }
      ]
    },
    {
      "cell_type": "markdown",
      "source": [
        "**Assignment 5: Combining Formatting Methods**\n",
        "\n",
        "**Instructions:**\n",
        "\n",
        "1. Create a variable `product` and assign a product name.\n",
        "2. Create a variable `discount` and assign a discount percentage.\n",
        "3. Create a variable `original_price` and assign an original price.\n",
        "4. Calculate the discounted price using the formula: `discounted_price = original_price * (1 - discount / 100)`.\n",
        "5. Using any combination of string formatting methods (`+`, `.format()`, `f''`, `%()`), create a descriptive string with the product name, original price, discount percentage, and discounted price.\n",
        "6. Print the descriptive string."
      ],
      "metadata": {
        "id": "1YjHzanZw-fR"
      }
    },
    {
      "cell_type": "code",
      "source": [
        "product = \"Macbook\"\n",
        "discount = 10\n",
        "original_price = 1400\n",
        "\n",
        "discounted_price = float(original_price * (1 - discount/100))\n",
        "\n",
        "output = f\"\"\"We have a discount offer on {product}. You can get a {discount}% discount on Aug 14th.\n",
        "Price before discount is ${original_price}\n",
        "Price after discount is ${discounted_price}\n",
        "\"\"\"\n",
        "\n",
        "\n",
        "print(output)"
      ],
      "metadata": {
        "colab": {
          "base_uri": "https://localhost:8080/"
        },
        "id": "sV5616YXxFO8",
        "outputId": "00cf7a4b-b880-4b81-f8b1-d4c83e647952"
      },
      "execution_count": 70,
      "outputs": [
        {
          "output_type": "stream",
          "name": "stdout",
          "text": [
            "We have a discount offer on Macbook. You can get a 10% discount on Aug 14th.\n",
            "Price before discount is $1400\n",
            "Price after discount is $1260.0\n",
            "\n"
          ]
        }
      ]
    }
  ]
}