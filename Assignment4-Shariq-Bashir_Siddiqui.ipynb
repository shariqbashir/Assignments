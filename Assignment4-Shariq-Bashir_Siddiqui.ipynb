{
 "cells": [
  {
   "cell_type": "markdown",
   "id": "00aaea42",
   "metadata": {},
   "source": [
    "### Assignment 1: Extracting Phone Numbers\n",
    "Raw Text: Extract all valid Pakistani phone numbers from a given text.\n",
    "\n",
    "Example:\n",
    "\n",
    "Text: Please contact me at 0301-1234567 or 042-35678901 for further details."
   ]
  },
  {
   "cell_type": "code",
   "execution_count": 55,
   "id": "acccbdaa",
   "metadata": {
    "scrolled": true
   },
   "outputs": [
    {
     "name": "stdout",
     "output_type": "stream",
     "text": [
      "['0301-1234567', '042-3567890']\n"
     ]
    }
   ],
   "source": [
    "import re\n",
    "\n",
    "txt = \"Please contact me at 0301-1234567 or 042-35678901 for further details.\"\n",
    "\n",
    "phone_number_pattern = r'\\d{3,4}-\\d{7}' #to extract phone nos.\n",
    "\n",
    "output = re.findall(phone_number_pattern, txt)\n",
    "print(output)"
   ]
  },
  {
   "cell_type": "markdown",
   "id": "9421baa6",
   "metadata": {},
   "source": [
    "### Assignment 2: Validating Email Addresses\n",
    "Raw Text: Validate email addresses according to Pakistani domain extensions (.pk).\n",
    "\n",
    "Example:\n",
    "\n",
    "Text: Contact us at info@example.com or support@domain.pk for assistance."
   ]
  },
  {
   "cell_type": "code",
   "execution_count": 56,
   "id": "a9d8c74f",
   "metadata": {},
   "outputs": [
    {
     "name": "stdout",
     "output_type": "stream",
     "text": [
      "['info@example.com', 'support@domain.pk']\n"
     ]
    }
   ],
   "source": [
    "import re\n",
    "\n",
    "txt = \"Contact us at info@example.com or support@domain.pk for assistance.\"\n",
    "\n",
    "email_pattern = r'\\b[A-Za-z0-9._%+-]+@[A-Za-z0-9.-]+\\.[A-Z|a-z]{2,3}\\b'\n",
    "\n",
    "output = re.findall(email_pattern, txt)\n",
    "print(output)"
   ]
  },
  {
   "cell_type": "markdown",
   "id": "f8cfa744",
   "metadata": {},
   "source": [
    "### Assignment 3: Extracting CNIC Numbers\n",
    "Raw Text: Extract all Pakistani CNIC (Computerized National Identity Card) numbers from a given text.\n",
    "\n",
    "Example:\n",
    "\n",
    "Text: My CNIC is 12345-6789012-3 and another one is 34567-8901234-5."
   ]
  },
  {
   "cell_type": "code",
   "execution_count": 57,
   "id": "f02cde70",
   "metadata": {},
   "outputs": [
    {
     "name": "stdout",
     "output_type": "stream",
     "text": [
      "['12345-6789012-3', '34567-8901234-5']\n"
     ]
    }
   ],
   "source": [
    "import re\n",
    "\n",
    "txt = \"My CNIC is 12345-6789012-3 and another one is 34567-8901234-5.\"\n",
    "\n",
    "cnic_pattern = pattern = r'\\d{5}-\\d{7}-\\d'\n",
    "\n",
    "output = re.findall(cnic_pattern, txt)\n",
    "print(output)"
   ]
  },
  {
   "cell_type": "markdown",
   "id": "93cdd95c",
   "metadata": {},
   "source": [
    "### Assignment 4: Identifying Urdu Words\n",
    "Raw Text: Identify and extract Urdu words from a mixed English-Urdu text.\n",
    "\n",
    "Example:\n",
    "\n",
    "Text: یہ sentence میں کچھ English words بھی ہیں۔"
   ]
  },
  {
   "cell_type": "code",
   "execution_count": 58,
   "id": "e3cbb5d4",
   "metadata": {},
   "outputs": [
    {
     "name": "stdout",
     "output_type": "stream",
     "text": [
      "['یہ', 'میں', 'کچھ', 'بھی', 'ہیں۔']\n"
     ]
    }
   ],
   "source": [
    "import re\n",
    "\n",
    "txt = \" یہ sentence میں کچھ English words بھی ہیں۔\"\n",
    "\n",
    "urdu_pattern = r'[\\u0600-\\u06FF]+'\n",
    "\n",
    "output = re.findall(urdu_pattern, txt)\n",
    "print(output)"
   ]
  },
  {
   "cell_type": "markdown",
   "id": "31f03453",
   "metadata": {},
   "source": [
    "### Assignment 5: Finding Dates\n",
    "Raw Text: Find and extract dates in the format DD-MM-YYYY from a given text.\n",
    "\n",
    "Example:\n",
    "\n",
    "Text: The event will take place on 15-08-2023 and 23-09-2023."
   ]
  },
  {
   "cell_type": "code",
   "execution_count": 59,
   "id": "14382e3a",
   "metadata": {},
   "outputs": [
    {
     "name": "stdout",
     "output_type": "stream",
     "text": [
      "['15-08-2023', '23-09-2023']\n"
     ]
    }
   ],
   "source": [
    "import re\n",
    "\n",
    "txt = \"The event will take place on 15-08-2023 and 23-09-2023.\"\n",
    "\n",
    "date_pattern = r'\\b\\d{2}-\\d{2}-\\d{4}\\b'\n",
    "\n",
    "output = re.findall(date_pattern, txt)\n",
    "print(output)"
   ]
  },
  {
   "cell_type": "markdown",
   "id": "a2759572",
   "metadata": {},
   "source": [
    "### Assignment 6: Extracting URLs\n",
    "Raw Text: Extract all URLs from a text that belong to Pakistani domains.\n",
    "\n",
    "Example:\n",
    "\n",
    "Text: Visit http://www.example.pk or https://website.com.pk for more information.\n"
   ]
  },
  {
   "cell_type": "code",
   "execution_count": 60,
   "id": "3c315897",
   "metadata": {},
   "outputs": [
    {
     "name": "stdout",
     "output_type": "stream",
     "text": [
      "['http://www.example.pk', 'https://website.com.pk']\n"
     ]
    }
   ],
   "source": [
    "import re\n",
    "\n",
    "txt = \"Visit http://www.example.pk or https://website.com.pk for more information.\"\n",
    "\n",
    "url_pattern = r'https?://\\S+|www\\.\\S+'\n",
    "\n",
    "output = re.findall(url_pattern, txt)\n",
    "print(output)"
   ]
  },
  {
   "cell_type": "markdown",
   "id": "3cd2fafb",
   "metadata": {},
   "source": [
    "### Assignment 7: Analyzing Currency\n",
    "Raw Text: Extract and analyze currency amounts in Pakistani Rupees (PKR) from a given text.\n",
    "\n",
    "Example:\n",
    "\n",
    "Text: The product costs PKR 1500, while the deluxe version is priced at Rs. 2500."
   ]
  },
  {
   "cell_type": "code",
   "execution_count": 61,
   "id": "0baf1073",
   "metadata": {},
   "outputs": [
    {
     "name": "stdout",
     "output_type": "stream",
     "text": [
      "[('PKR', '1500'), ('Rs.', '2500')]\n"
     ]
    }
   ],
   "source": [
    "import re\n",
    "\n",
    "txt = \"The product costs PKR 1500, while the deluxe version is priced at Rs. 2500.\"\n",
    "\n",
    "currency_pattern = r'(PKR|Rs\\.)\\s+(\\d+)'\n",
    "\n",
    "output = re.findall(currency_pattern, txt)\n",
    "print(output)"
   ]
  },
  {
   "cell_type": "markdown",
   "id": "753051bd",
   "metadata": {},
   "source": [
    "### Assignment 8: Removing Punctuation\n",
    "Raw Text: Remove all punctuation marks from a text while preserving Urdu characters.\n",
    "\n",
    "Example:\n",
    "\n",
    "Text: کیا! آپ, یہاں؟"
   ]
  },
  {
   "cell_type": "code",
   "execution_count": 62,
   "id": "83db6a96",
   "metadata": {},
   "outputs": [
    {
     "name": "stdout",
     "output_type": "stream",
     "text": [
      "کیا آپ یہاں\n"
     ]
    }
   ],
   "source": [
    "import re\n",
    "\n",
    "txt = \"کیا! آپ, یہاں؟\"\n",
    "\n",
    "punctuation_pattern = r'[^\\w\\s]'\n",
    "\n",
    "output = re.sub(punctuation_pattern, '', txt)\n",
    "print(output)"
   ]
  },
  {
   "cell_type": "markdown",
   "id": "ec862443",
   "metadata": {},
   "source": [
    "### Assignment 9: Extracting City Names\n",
    "Raw Text: Extract names of Pakistani cities from a given text.\n",
    "\n",
    "Example:\n",
    "\n",
    "Text: Lahore, Karachi, Islamabad, and Peshawar are major cities of Pakistan."
   ]
  },
  {
   "cell_type": "code",
   "execution_count": 63,
   "id": "a7468d34",
   "metadata": {},
   "outputs": [
    {
     "name": "stdout",
     "output_type": "stream",
     "text": [
      "[('Lahore, Karachi, Islamabad,', 'Peshawar')]\n"
     ]
    }
   ],
   "source": [
    "import re\n",
    "\n",
    "# Input text containing city names\n",
    "txt = \"Lahore, Karachi, Islamabad, and Peshawar are major cities of Pakistan.\"\n",
    "\n",
    "city_pattern = r'(\\b.+,).+(\\bP.+ar\\b)'\n",
    "\n",
    "output = re.findall(city_pattern, txt)\n",
    "print(output)"
   ]
  },
  {
   "cell_type": "markdown",
   "id": "666f0719",
   "metadata": {},
   "source": [
    "### Assignment 10: Analyzing Vehicle Numbers\n",
    "Raw Text: Identify and extract Pakistani vehicle registration numbers (e.g., ABC-123) from a text.\n",
    "\n",
    "Example:\n",
    "\n",
    "Text: I saw a car with the number plate LEA-567 near the market."
   ]
  },
  {
   "cell_type": "code",
   "execution_count": 64,
   "id": "8edf305d",
   "metadata": {},
   "outputs": [
    {
     "name": "stdout",
     "output_type": "stream",
     "text": [
      "['LEA-567', 'ABC-765']\n"
     ]
    }
   ],
   "source": [
    "import re\n",
    "\n",
    "txt = \"I saw a car with the number plate LEA-567 near the market. Another car with black color was ABC-765\"\n",
    "\n",
    "registration_number_pattern = r'[A-Z]{3}-\\d{3}'\n",
    "\n",
    "output = re.findall(registration_number_pattern, txt)\n",
    "print(output)"
   ]
  },
  {
   "cell_type": "code",
   "execution_count": null,
   "id": "6916b9f0",
   "metadata": {},
   "outputs": [],
   "source": []
  }
 ],
 "metadata": {
  "kernelspec": {
   "display_name": "Python 3 (ipykernel)",
   "language": "python",
   "name": "python3"
  },
  "language_info": {
   "codemirror_mode": {
    "name": "ipython",
    "version": 3
   },
   "file_extension": ".py",
   "mimetype": "text/x-python",
   "name": "python",
   "nbconvert_exporter": "python",
   "pygments_lexer": "ipython3",
   "version": "3.11.3"
  }
 },
 "nbformat": 4,
 "nbformat_minor": 5
}
