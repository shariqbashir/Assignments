{
 "cells": [
  {
   "cell_type": "markdown",
   "id": "9f9e112a-4c39-4b69-b2cf-56cd91468f92",
   "metadata": {},
   "source": [
    "### Question 1: Build List operations ###\n",
    "* Create a list with the name of fruits.\n",
    "* Add \"pear\" to the end of the list.\n",
    "* Insert \"mango\" at the second position in the list.\n",
    "* Remove \"orange\" from the list."
   ]
  },
  {
   "cell_type": "code",
   "execution_count": 75,
   "id": "ec3694ff-4dfa-4b48-b6b0-96d388bc114b",
   "metadata": {
    "tags": []
   },
   "outputs": [
    {
     "name": "stdout",
     "output_type": "stream",
     "text": [
      "['apple', 'banana', 'orange', 'grape', 'kiwi']\n",
      "['apple', 'banana', 'orange', 'grape', 'kiwi', 'pear']\n",
      "['apple', 'mango', 'banana', 'orange', 'grape', 'kiwi', 'pear']\n",
      "['apple', 'mango', 'banana', 'grape', 'kiwi', 'pear']\n"
     ]
    }
   ],
   "source": [
    "# Create a list with the name of fruits. \n",
    "fruits = [\"apple\", \"banana\", \"orange\", \"grape\", \"kiwi\"]\n",
    "print(fruits)\n",
    "\n",
    "#append pear \n",
    "fruits.append(\"pear\")\n",
    "print(fruits)\n",
    "\n",
    "#insert mango at the 2nd position\n",
    "fruits.insert(1, \"mango\")\n",
    "print(fruits)\n",
    "\n",
    "#remove orange from the list\n",
    "fruits.remove(\"orange\")\n",
    "print(fruits)"
   ]
  },
  {
   "cell_type": "markdown",
   "id": "b3ebb219-4d16-4d5e-a7d2-df3f688f1bbf",
   "metadata": {},
   "source": [
    "### Question 2: Slicing and Indexing ###\n",
    "* a) Create a list named `numbers` containing the integers from 0 to 9.\n",
    "* b) Print the element at index 3.\n",
    "* c) Print a sublist containing the elements from index 2 to 6 (inclusive).\n",
    "* d) Print the last three elements using negative indexing."
   ]
  },
  {
   "cell_type": "code",
   "execution_count": 76,
   "id": "9790f711-f3a2-411a-9fef-5c7700401031",
   "metadata": {
    "tags": []
   },
   "outputs": [
    {
     "name": "stdout",
     "output_type": "stream",
     "text": [
      "[0, 1, 2, 3, 4, 5, 6, 7, 8, 9]\n",
      "3\n",
      "[2, 3, 4, 5, 6]\n",
      "[7, 8, 9]\n"
     ]
    }
   ],
   "source": [
    "# Create a list named `numbers` containing the integers from 0 to 9.\n",
    "numbers = list(range(0,10))\n",
    "print(numbers)\n",
    "\n",
    "# Print the element at index 3.\n",
    "print(numbers[3])\n",
    "\n",
    "# Print a sublist containing the elements from index 2 to 6 (inclusive).\n",
    "print(numbers[2:7])\n",
    "\n",
    "# Print the last three elements using negative indexing.\n",
    "print(numbers[-3:])\n"
   ]
  },
  {
   "cell_type": "markdown",
   "id": "a9678607-22a6-4867-960e-f5ae33dda539",
   "metadata": {},
   "source": [
    "### Question 3: List Comprehension ###\n",
    "* a) Create a list named `squares` using a list comprehension that contains the squares of numbers from 1 to 10.\n",
    "* Create a new list named `even_squares` using a list comprehension that contains the squares of even numbers from the `squares` list."
   ]
  },
  {
   "cell_type": "code",
   "execution_count": 97,
   "id": "bce192a0-6d30-4aee-8264-1f142421e445",
   "metadata": {
    "tags": []
   },
   "outputs": [
    {
     "name": "stdout",
     "output_type": "stream",
     "text": [
      "[1, 4, 9, 16, 25, 36, 49, 64, 81, 100]\n",
      "[4, 16, 36, 64, 100]\n"
     ]
    }
   ],
   "source": [
    "\"\"\" Create a list named `squares` using a list comprehension that \n",
    "contains the squares of numbers from 1 to 10. \"\"\"\n",
    "\n",
    "squares = [value**2 for value in range(1,11)]\n",
    "print(squares)\n",
    "\n",
    "\"\"\" Create a new list named `even_squares` using a list comprehension that \n",
    "contains the squares of even numbers from the `squares` list.\"\"\"\n",
    "\n",
    "even_squares = [value for value in squares if value % 2 == 0]\n",
    "print(even_squares)\n"
   ]
  },
  {
   "cell_type": "markdown",
   "id": "ac72c630-c034-47a1-8162-12be7b231a7f",
   "metadata": {},
   "source": [
    "### Question 4: List Manipulation ###\n",
    "* a) Create a list named `colors` containing the following items: \"red\", \"green\", \"blue\", \"yellow\", \"purple\".\n",
    "* b) Swap the first and last elements of the list.\n",
    "* c) Reverse the order of the list.\n",
    "* d) Remove the second and third elements from the list.\n"
   ]
  },
  {
   "cell_type": "code",
   "execution_count": 96,
   "id": "49d8cf4d-4cfb-4b51-990c-2d1eb2dfed33",
   "metadata": {
    "tags": []
   },
   "outputs": [
    {
     "name": "stdout",
     "output_type": "stream",
     "text": [
      "['red', 'green', 'blue', 'yellow', 'purple']\n",
      "['purple', 'green', 'blue', 'yellow', 'red']\n",
      "['red', 'yellow', 'blue', 'green', 'purple']\n",
      "['red', 'green', 'purple']\n"
     ]
    }
   ],
   "source": [
    "# Create a list named `colors` containing the following items: \"red\", \"green\", \"blue\", \"yellow\", \"purple\".\n",
    "colors = [\"red\", \"green\", \"blue\", \"yellow\", \"purple\"]\n",
    "print(colors)\n",
    "\n",
    "# Swap the first and last elements of the list.\n",
    "colors[0],colors[-1] =  colors[-1],colors[0]\n",
    "print(colors)\n",
    "\n",
    "# Reverse the order of the list.\n",
    "colors.reverse()\n",
    "print(colors)\n",
    "\n",
    "# Remove the second and third elements from the list.\n",
    "del colors[1:3]\n",
    "print(colors)\n"
   ]
  },
  {
   "cell_type": "markdown",
   "id": "0595f748-3bef-4761-a38b-69fadcb03bcd",
   "metadata": {},
   "source": [
    "### Question 5: Advanced Slicing ###\n",
    "* a) Create a list named `letters` containing the letters from 'a' to 'j'.\n",
    "* b) Using slicing, create a new list `first_half` containing the first half of the `letters` list.\n",
    "* c) Using slicing, create a new list `last_three` containing the last three elements of the `letters` list.\n"
   ]
  },
  {
   "cell_type": "code",
   "execution_count": 122,
   "id": "8fa19683-304e-4810-95eb-d93053cd1ad8",
   "metadata": {
    "tags": []
   },
   "outputs": [
    {
     "name": "stdout",
     "output_type": "stream",
     "text": [
      "['a', 'b', 'c', 'd', 'e', 'f', 'g', 'h', 'i', 'j']\n",
      "['a', 'b', 'c', 'd', 'e']\n",
      "['h', 'i', 'j']\n"
     ]
    }
   ],
   "source": [
    "# Create a list named letters containing the letters from 'a' to 'j'.\n",
    "letters = []\n",
    "for ch in range (97,107): letters.append(chr(ch))\n",
    "print(letters)\n",
    "\n",
    "# Using slicing, create a new list first_half containing the first half of the letters list.\n",
    "first_half = letters[:(len(letters)//2)]\n",
    "print(first_half)\n",
    "\n",
    "# Using slicing, create a new list last_three containing the last three elements of the letters list.\n",
    "last_three = letters[-3:]\n",
    "print(last_three)"
   ]
  },
  {
   "cell_type": "markdown",
   "id": "7be1c8ce-3a2d-4e08-baeb-dd030977b02d",
   "metadata": {},
   "source": [
    "### Question 6:  Nested Lists ###\n",
    "* a) Create a nested list named `matrix` with the following rows:\n",
    "   - [1, 2, 3]\n",
    "   - [4, 5, 6]\n",
    "   - [7, 8, 9]\n",
    "* b) Print the element in the second row and third column\n",
    "* c) Use nested indexing to change the value at the second row and first column to 0.\n",
    "\n"
   ]
  },
  {
   "cell_type": "code",
   "execution_count": 146,
   "id": "a47070f7-a8f0-4526-a186-9956f5839545",
   "metadata": {
    "tags": []
   },
   "outputs": [
    {
     "name": "stdout",
     "output_type": "stream",
     "text": [
      "[7, 8, 9]\n",
      "[7, 8, 9]\n",
      "[7, 8, 9]\n",
      "6\n",
      "[7, 8, 9]\n",
      "[7, 8, 9]\n",
      "[7, 8, 9]\n"
     ]
    }
   ],
   "source": [
    "# Create a nested list named matrix with the following rows\n",
    "matrix = [[1, 2, 3], [4, 5, 6], [7, 8, 9]]\n",
    "\n",
    "for r in matrix:\n",
    "    print(i)\n",
    "    \n",
    "# Print the element in the second row and third column\n",
    "print(matrix[1][2])\n",
    "\n",
    "matrix[1][0] = 0\n",
    "for r in matrix:\n",
    "    print(i)\n",
    "    \n"
   ]
  }
 ],
 "metadata": {
  "kernelspec": {
   "display_name": "Python 3 (ipykernel)",
   "language": "python",
   "name": "python3"
  },
  "language_info": {
   "codemirror_mode": {
    "name": "ipython",
    "version": 3
   },
   "file_extension": ".py",
   "mimetype": "text/x-python",
   "name": "python",
   "nbconvert_exporter": "python",
   "pygments_lexer": "ipython3",
   "version": "3.11.3"
  }
 },
 "nbformat": 4,
 "nbformat_minor": 5
}
